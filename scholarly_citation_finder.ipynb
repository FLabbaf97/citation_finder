{
 "cells": [
  {
   "cell_type": "code",
   "execution_count": null,
   "metadata": {},
   "outputs": [],
   "source": [
    "import pandas as pd"
   ]
  },
  {
   "cell_type": "code",
   "execution_count": null,
   "metadata": {},
   "outputs": [],
   "source": [
    "metadata = pd.read_csv('journal_rankings.csv')\n",
    "metadata"
   ]
  },
  {
   "cell_type": "code",
   "execution_count": 8,
   "metadata": {},
   "outputs": [],
   "source": [
    "from scholarly._scholarly import _Scholarly\n",
    "\n",
    "# Retrieve the author's data, fill-in, and print\n",
    "# Get an iterator for the author results\n",
    "# search_query = scholarly.search_author('Steven A Cholewiak')"
   ]
  },
  {
   "cell_type": "code",
   "execution_count": 10,
   "metadata": {},
   "outputs": [
    {
     "name": "stdout",
     "output_type": "stream",
     "text": [
      "a scholar object has been created\n"
     ]
    }
   ],
   "source": [
    "sch = _Scholarly()\n",
    "search_query = sch.search_author('Steven A Cholewiak')"
   ]
  },
  {
   "cell_type": "code",
   "execution_count": null,
   "metadata": {},
   "outputs": [],
   "source": []
  },
  {
   "cell_type": "code",
   "execution_count": null,
   "metadata": {},
   "outputs": [],
   "source": [
    "print(next(scholarly.search_author('Steven A. Cholewiak')))"
   ]
  },
  {
   "cell_type": "markdown",
   "metadata": {},
   "source": [
    "Setup proxy to avoid banning from google scholar\n"
   ]
  },
  {
   "cell_type": "code",
   "execution_count": null,
   "metadata": {},
   "outputs": [],
   "source": [
    "from scholarly.scholarly import ProxyGenerator\n",
    "\n",
    "# Set up a ProxyGenerator object to use free proxies\n",
    "# This needs to be done only once per session\n",
    "pg = ProxyGenerator()\n",
    "pg.FreeProxies()\n",
    "scholarly.use_proxy(pg)"
   ]
  },
  {
   "cell_type": "code",
   "execution_count": null,
   "metadata": {},
   "outputs": [],
   "source": [
    "from Bio import Entrez\n",
    "from Bio import Medline\n",
    "\n",
    "idlist = ['2344532', '2445435']  # this is your PMID list\n",
    "\n",
    "citations = []\n",
    "\n",
    "for pmid in idlist:\n",
    "\n",
    "    q = Entrez.read(Entrez.elink(dbfrom=\"pubmed\", db=\"pmc\",\n",
    "                    LinkName=\"pubmed_pubmed_citedin\", from_uid=pmid))\n",
    "\n",
    "    for i in range(0, len(q)):\n",
    "        if len(q[i][\"LinkSetDb\"]) > 0:\n",
    "            pmids_list = [link[\"Id\"] for link in q[i][\"LinkSetDb\"][0][\"Link\"]]\n",
    "            pmids = \";\".join(pmids_list)\n",
    "            citations.append([q[i][\"IdList\"][0], pmids])\n",
    "        else:\n",
    "            citations.append([q[i][\"IdList\"][0]])"
   ]
  }
 ],
 "metadata": {
  "kernelspec": {
   "display_name": "scholar",
   "language": "python",
   "name": "python3"
  },
  "language_info": {
   "codemirror_mode": {
    "name": "ipython",
    "version": 3
   },
   "file_extension": ".py",
   "mimetype": "text/x-python",
   "name": "python",
   "nbconvert_exporter": "python",
   "pygments_lexer": "ipython3",
   "version": "3.12.2"
  }
 },
 "nbformat": 4,
 "nbformat_minor": 2
}
